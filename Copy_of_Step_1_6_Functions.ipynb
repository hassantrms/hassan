{
  "nbformat": 4,
  "nbformat_minor": 0,
  "metadata": {
    "kernelspec": {
      "display_name": "Python 3",
      "language": "python",
      "name": "python3"
    },
    "language_info": {
      "codemirror_mode": {
        "name": "ipython",
        "version": 3
      },
      "file_extension": ".py",
      "mimetype": "text/x-python",
      "name": "python",
      "nbconvert_exporter": "python",
      "pygments_lexer": "ipython3",
      "version": "3.7.1"
    },
    "colab": {
      "name": "Copy of Step_1_6_Functions.ipynb",
      "provenance": [],
      "include_colab_link": true
    }
  },
  "cells": [
    {
      "cell_type": "markdown",
      "metadata": {
        "id": "view-in-github",
        "colab_type": "text"
      },
      "source": [
        "<a href=\"https://colab.research.google.com/github/hassantrms/hassan/blob/master/Copy_of_Step_1_6_Functions.ipynb\" target=\"_parent\"><img src=\"https://colab.research.google.com/assets/colab-badge.svg\" alt=\"Open In Colab\"/></a>"
      ]
    },
    {
      "cell_type": "markdown",
      "metadata": {
        "id": "MQTQAsYojKp8",
        "colab_type": "text"
      },
      "source": [
        "### User Defined Functions\n",
        "\n",
        "A function is a block of organized, reusable code that is used to perform a single, related action. Functions provide better modularity for your application and a high degree of code reusing. "
      ]
    },
    {
      "cell_type": "markdown",
      "metadata": {
        "id": "VJByGDW-jKp-",
        "colab_type": "text"
      },
      "source": [
        "### function without arguments"
      ]
    },
    {
      "cell_type": "code",
      "metadata": {
        "id": "TtjdqvqgjKp_",
        "colab_type": "code",
        "colab": {
          "base_uri": "https://localhost:8080/",
          "height": 34
        },
        "outputId": "154f83ef-ea4d-4063-aeaa-9200283278e5"
      },
      "source": [
        "# Simple function\n",
        "def someFunction():\n",
        "    print (\"Hello World\")\n",
        "\n",
        "# Call the function\n",
        "someFunction()"
      ],
      "execution_count": 2,
      "outputs": [
        {
          "output_type": "stream",
          "text": [
            "Hello World\n"
          ],
          "name": "stdout"
        }
      ]
    },
    {
      "cell_type": "markdown",
      "metadata": {
        "id": "X8s8fSqBjKqD",
        "colab_type": "text"
      },
      "source": [
        "### function with arguments"
      ]
    },
    {
      "cell_type": "code",
      "metadata": {
        "id": "Pvml5ihMjKqE",
        "colab_type": "code",
        "colab": {
          "base_uri": "https://localhost:8080/",
          "height": 34
        },
        "outputId": "b9a2e8c3-af2a-464a-a818-3c98ca49b309"
      },
      "source": [
        "# simple function to add two numbers\n",
        "def sum_two_numbers(a, b):\n",
        "    return a + b\n",
        "\n",
        "# after this line x will hold the value 3!\n",
        "x = sum_two_numbers(1,2)\n",
        "print (x)"
      ],
      "execution_count": 3,
      "outputs": [
        {
          "output_type": "stream",
          "text": [
            "3\n"
          ],
          "name": "stdout"
        }
      ]
    },
    {
      "cell_type": "markdown",
      "metadata": {
        "id": "52BkglbtjKqH",
        "colab_type": "text"
      },
      "source": [
        "You can also set default value for argument(s) in a function. In the below example value of b is set to 10 as default"
      ]
    },
    {
      "cell_type": "code",
      "metadata": {
        "id": "ylmh5fk8jKqH",
        "colab_type": "code",
        "colab": {
          "base_uri": "https://localhost:8080/",
          "height": 51
        },
        "outputId": "7f5c4ebd-e8aa-480c-83b2-c5e2d8b71af2"
      },
      "source": [
        "def sum_two_numbers(a, b = 10):\n",
        "    return a + b\n",
        "\n",
        "print (sum_two_numbers(10))\n",
        "print (sum_two_numbers(10, 5))"
      ],
      "execution_count": 4,
      "outputs": [
        {
          "output_type": "stream",
          "text": [
            "20\n",
            "15\n"
          ],
          "name": "stdout"
        }
      ]
    },
    {
      "cell_type": "markdown",
      "metadata": {
        "id": "UwwYT-8VjKqK",
        "colab_type": "text"
      },
      "source": [
        "### Scope of variables\n",
        "\n",
        "The scope of a variable determines the portion of the program where you can access a particular identifier. There are two basic scopes of variables in Python\n",
        "\n",
        "- Global variables\n",
        "- Local variables"
      ]
    },
    {
      "cell_type": "code",
      "metadata": {
        "id": "YqqOKuSNjKqL",
        "colab_type": "code",
        "colab": {
          "base_uri": "https://localhost:8080/",
          "height": 34
        },
        "outputId": "1cd6e92c-7a89-405d-f4bf-c7deeadfc8fb"
      },
      "source": [
        "# Global variable\n",
        "a = 10 \n",
        "\n",
        "# Simple function to add two numbers\n",
        "def sum_two_numbers(b):\n",
        "    return a + b\n",
        "\n",
        "# Call the function and print result\n",
        "print (sum_two_numbers(10))"
      ],
      "execution_count": 5,
      "outputs": [
        {
          "output_type": "stream",
          "text": [
            "20\n"
          ],
          "name": "stdout"
        }
      ]
    },
    {
      "cell_type": "markdown",
      "metadata": {
        "id": "5lpg5vg6jKqO",
        "colab_type": "text"
      },
      "source": [
        "### Default argument\n",
        "\n",
        "A default argument is an argument that assumes a default value if a value is not provided in the function call for that argument."
      ]
    },
    {
      "cell_type": "code",
      "metadata": {
        "id": "orAV5Or7jKqP",
        "colab_type": "code",
        "colab": {
          "base_uri": "https://localhost:8080/",
          "height": 51
        },
        "outputId": "90769182-8ddb-4ab8-832b-dae702e2916d"
      },
      "source": [
        "# Simple function to add two number with b having default value of 10\n",
        "def sum_two_numbers(a, b = 10):\n",
        "    return a + b\n",
        "\n",
        "# Call the function and print result\n",
        "print (sum_two_numbers(10))\n",
        "\n",
        "print (sum_two_numbers(10, 5))"
      ],
      "execution_count": 6,
      "outputs": [
        {
          "output_type": "stream",
          "text": [
            "20\n",
            "15\n"
          ],
          "name": "stdout"
        }
      ]
    },
    {
      "cell_type": "markdown",
      "metadata": {
        "id": "GJ77tsBtjKqS",
        "colab_type": "text"
      },
      "source": [
        "### Variable length arguments\n",
        "\n",
        "You may need to process a function for more arguments than you specified while defining the function. These arguments are called variable-lengtharguments and are not named in the function definition, unlike required and default arguments. The *args and **kwargs is a common idiom to allow arbitrary number of arguments.\n",
        "\n",
        "The *args will give you all function parameters as a tuple:"
      ]
    },
    {
      "cell_type": "code",
      "metadata": {
        "id": "XjE19QkujKqS",
        "colab_type": "code",
        "colab": {
          "base_uri": "https://localhost:8080/",
          "height": 68
        },
        "outputId": "f33dd069-90c6-4376-f709-d04edb5e494c"
      },
      "source": [
        "# Simple function to loop through arguments and print them\n",
        "def foo(*args):\n",
        "    for a in args:\n",
        "        print (a)\n",
        "\n",
        "# Call the function\n",
        "foo(1,2,3) "
      ],
      "execution_count": 7,
      "outputs": [
        {
          "output_type": "stream",
          "text": [
            "1\n",
            "2\n",
            "3\n"
          ],
          "name": "stdout"
        }
      ]
    },
    {
      "cell_type": "markdown",
      "metadata": {
        "id": "Gy-l0S6FjKqW",
        "colab_type": "text"
      },
      "source": [
        "The **kwargs will give you all keyword arguments except for those corresponding to a formal parameter as a dictionary"
      ]
    },
    {
      "cell_type": "code",
      "metadata": {
        "id": "ZU_5PIt-jKqX",
        "colab_type": "code",
        "colab": {
          "base_uri": "https://localhost:8080/",
          "height": 51
        },
        "outputId": "c420b9ee-e1b3-4b83-8d86-4ad3c8d57802"
      },
      "source": [
        "# Simple function to loop through arguments and print them\n",
        "def foo(**kwargs):\n",
        "    for a in kwargs:\n",
        "        print (a, kwargs[a])\n",
        "        \n",
        "\n",
        "# Call the function\n",
        "foo(name='Jivin', age=8)"
      ],
      "execution_count": 8,
      "outputs": [
        {
          "output_type": "stream",
          "text": [
            "name Jivin\n",
            "age 8\n"
          ],
          "name": "stdout"
        }
      ]
    }
  ]
}