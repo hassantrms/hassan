{
  "nbformat": 4,
  "nbformat_minor": 0,
  "metadata": {
    "colab": {
      "name": "Copy of Step_3_5_Curry_scraping5_CSV.ipynb",
      "provenance": [],
      "collapsed_sections": [],
      "include_colab_link": true
    },
    "kernelspec": {
      "name": "python3",
      "display_name": "Python 3"
    }
  },
  "cells": [
    {
      "cell_type": "markdown",
      "metadata": {
        "id": "view-in-github",
        "colab_type": "text"
      },
      "source": [
        "<a href=\"https://colab.research.google.com/github/hassantrms/hassan/blob/master/Copy_of_Step_3_5_Curry_scraping5_CSV.ipynb\" target=\"_parent\"><img src=\"https://colab.research.google.com/assets/colab-badge.svg\" alt=\"Open In Colab\"/></a>"
      ]
    },
    {
      "cell_type": "code",
      "metadata": {
        "id": "2DM9j2E43eyk",
        "colab_type": "code",
        "colab": {
          "base_uri": "https://localhost:8080/",
          "height": 952
        },
        "outputId": "ee98a633-c86c-495f-d884-9c067704d78f"
      },
      "source": [
        "import time\n",
        "import requests\n",
        "from bs4 import BeautifulSoup\n",
        "import pandas as pd\n",
        "from google.colab import files\n",
        "\n",
        "\n",
        "# まずはURLとHTMLの取得、文字化け防止\n",
        "url = 'https://housefoods.jp/recipe/special/natsuyasaicurry/'\n",
        "response = requests.get(url)\n",
        "response.encoding = response.apparent_encoding\n",
        "\n",
        "# BeautifulSoupで解析\n",
        "bs = BeautifulSoup(response.text, 'html.parser')\n",
        "\n",
        "# リンクと子分にレシピ名を含むaタグを抽出\n",
        "recipe_atags = bs.find_all('a', {'class': 'special_recipes_item round_corner'})\n",
        "\n",
        "# aタグから1つずつ名前とリンク・カロリー等を抽出！！\n",
        "# dataframe作ってCSV保存まで行こう\n",
        "columns = ['name', 'time', 'calorie', 'url']\n",
        "df = pd.DataFrame(columns=columns)\n",
        "\n",
        "for recipe_atag in recipe_atags:\n",
        "    name = recipe_atag.p.string\n",
        "    time_calorie_list = recipe_atag.find_all('li')\n",
        "    time = time_calorie_list[0].string\n",
        "    calorie = time_calorie_list[1].string\n",
        "    url1 = url + recipe_atag.get('href')\n",
        "    se = pd.Series([name, time, calorie, url1], columns)\n",
        "    print(se)\n",
        "    df = df.append(se, columns)\n",
        "\n",
        "filename = 'curry_recipe.csv'\n",
        "df.to_csv(filename, encoding='utf-8-sig')\n",
        "files.download(filename)\n"
      ],
      "execution_count": 1,
      "outputs": [
        {
          "output_type": "stream",
          "text": [
            "name                                         夏野菜のスパイシーキーマカレー\n",
            "time                                                    約25分\n",
            "calorie                                              268kcal\n",
            "url        https://housefoods.jp/recipe/special/natsuyasa...\n",
            "dtype: object\n",
            "name                                            野菜たっぷりキーマカレー\n",
            "time                                                    約25分\n",
            "calorie                                              267kcal\n",
            "url        https://housefoods.jp/recipe/special/natsuyasa...\n",
            "dtype: object\n",
            "name                                              牛肉と夏野菜のカレー\n",
            "time                                                    約40分\n",
            "calorie                                              381kcal\n",
            "url        https://housefoods.jp/recipe/special/natsuyasa...\n",
            "dtype: object\n",
            "name                                              エビと夏野菜のカレー\n",
            "time                                                    約30分\n",
            "calorie                                              220kcal\n",
            "url        https://housefoods.jp/recipe/special/natsuyasa...\n",
            "dtype: object\n",
            "name                                         夏野菜とやわらか卵のオムカレー\n",
            "time                                                    約50分\n",
            "calorie                                              455kcal\n",
            "url        https://housefoods.jp/recipe/special/natsuyasa...\n",
            "dtype: object\n",
            "name                                              夏野菜のチキンカレー\n",
            "time                                                    約40分\n",
            "calorie                                              207kcal\n",
            "url        https://housefoods.jp/recipe/special/natsuyasa...\n",
            "dtype: object\n",
            "name                                                 夏野菜のカレー\n",
            "time                                                    約30分\n",
            "calorie                                              265kcal\n",
            "url        https://housefoods.jp/recipe/special/natsuyasa...\n",
            "dtype: object\n",
            "name                                         和の素材を楽しむ　夏野菜カレー\n",
            "time                                                    約40分\n",
            "calorie                                              200kcal\n",
            "url        https://housefoods.jp/recipe/special/natsuyasa...\n",
            "dtype: object\n",
            "name                                              夏野菜のキーマカレー\n",
            "time                                                    約30分\n",
            "calorie                                              208kcal\n",
            "url        https://housefoods.jp/recipe/special/natsuyasa...\n",
            "dtype: object\n",
            "name                                            ゴーヤと豚バラ肉のカレー\n",
            "time                                                    約30分\n",
            "calorie                                              437kcal\n",
            "url        https://housefoods.jp/recipe/special/natsuyasa...\n",
            "dtype: object\n",
            "name                                                  夏野菜カレー\n",
            "time                                                    約30分\n",
            "calorie                                              329kcal\n",
            "url        https://housefoods.jp/recipe/special/natsuyasa...\n",
            "dtype: object\n"
          ],
          "name": "stdout"
        },
        {
          "output_type": "display_data",
          "data": {
            "application/javascript": [
              "\n",
              "    async function download(id, filename, size) {\n",
              "      if (!google.colab.kernel.accessAllowed) {\n",
              "        return;\n",
              "      }\n",
              "      const div = document.createElement('div');\n",
              "      const label = document.createElement('label');\n",
              "      label.textContent = `Downloading \"${filename}\": `;\n",
              "      div.appendChild(label);\n",
              "      const progress = document.createElement('progress');\n",
              "      progress.max = size;\n",
              "      div.appendChild(progress);\n",
              "      document.body.appendChild(div);\n",
              "\n",
              "      const buffers = [];\n",
              "      let downloaded = 0;\n",
              "\n",
              "      const channel = await google.colab.kernel.comms.open(id);\n",
              "      // Send a message to notify the kernel that we're ready.\n",
              "      channel.send({})\n",
              "\n",
              "      for await (const message of channel.messages) {\n",
              "        // Send a message to notify the kernel that we're ready.\n",
              "        channel.send({})\n",
              "        if (message.buffers) {\n",
              "          for (const buffer of message.buffers) {\n",
              "            buffers.push(buffer);\n",
              "            downloaded += buffer.byteLength;\n",
              "            progress.value = downloaded;\n",
              "          }\n",
              "        }\n",
              "      }\n",
              "      const blob = new Blob(buffers, {type: 'application/binary'});\n",
              "      const a = document.createElement('a');\n",
              "      a.href = window.URL.createObjectURL(blob);\n",
              "      a.download = filename;\n",
              "      div.appendChild(a);\n",
              "      a.click();\n",
              "      div.remove();\n",
              "    }\n",
              "  "
            ],
            "text/plain": [
              "<IPython.core.display.Javascript object>"
            ]
          },
          "metadata": {
            "tags": []
          }
        },
        {
          "output_type": "display_data",
          "data": {
            "application/javascript": [
              "download(\"download_b2ae2366-147f-4f4a-b4f0-f01f4f968569\", \"curry_recipe.csv\", 1394)"
            ],
            "text/plain": [
              "<IPython.core.display.Javascript object>"
            ]
          },
          "metadata": {
            "tags": []
          }
        }
      ]
    }
  ]
}